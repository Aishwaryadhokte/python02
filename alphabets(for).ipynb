{
 "cells": [
  {
   "cell_type": "code",
   "execution_count": 2,
   "id": "bb9e91bf",
   "metadata": {},
   "outputs": [
    {
     "name": "stdout",
     "output_type": "stream",
     "text": [
      "  ** \n",
      "*    *\n",
      "*    *\n",
      "******\n",
      "*    *\n",
      "*    *\n"
     ]
    }
   ],
   "source": [
    "for x in range(7):\n",
    "    if x==1:\n",
    "        print(\"  ** \")\n",
    "    elif x==2 or x==3:\n",
    "        print(\"*    *\")\n",
    "    elif x==4:\n",
    "        print(\"******\")\n",
    "    elif x==5  or x==6:\n",
    "        print(\"*    *\")\n",
    "    "
   ]
  },
  {
   "cell_type": "code",
   "execution_count": 5,
   "id": "decc40a1",
   "metadata": {},
   "outputs": [
    {
     "name": "stdout",
     "output_type": "stream",
     "text": [
      "*****\n",
      "*    *\n",
      "*****\n",
      "*    *\n",
      "*****\n"
     ]
    }
   ],
   "source": [
    "for x in range(6):\n",
    "    if x==1:\n",
    "        print(\"*****\")\n",
    "    elif x==2 :\n",
    "        print(\"*    *\")\n",
    "    elif x==3:\n",
    "        print(\"*****\")\n",
    "    elif x==4  :\n",
    "        print(\"*    *\")\n",
    "    elif x==5:\n",
    "        print(\"*****\")"
   ]
  },
  {
   "cell_type": "code",
   "execution_count": 10,
   "id": "f6e2170e",
   "metadata": {},
   "outputs": [
    {
     "name": "stdout",
     "output_type": "stream",
     "text": [
      "*****\n",
      "*    \n",
      "*\n",
      "*    \n",
      "*****\n"
     ]
    }
   ],
   "source": [
    "for x in range(6):\n",
    "    if x==1:\n",
    "        print(\"*****\")\n",
    "    elif x==2 :\n",
    "        print(\"*    \")\n",
    "    elif x==3:\n",
    "        print(\"*\")\n",
    "    elif x==4  :\n",
    "        print(\"*    \")\n",
    "    elif x==5:\n",
    "        print(\"*****\")"
   ]
  },
  {
   "cell_type": "code",
   "execution_count": 11,
   "id": "5d63e0f0",
   "metadata": {},
   "outputs": [
    {
     "name": "stdout",
     "output_type": "stream",
     "text": [
      "*****\n",
      "*    *\n",
      "*     *\n",
      "*    *\n",
      "*****\n"
     ]
    }
   ],
   "source": [
    "for x in range(6):\n",
    "    if x==1:\n",
    "        print(\"*****\")\n",
    "    elif x==2 :\n",
    "        print(\"*    *\")\n",
    "    elif x==3:\n",
    "        print(\"*     *\")\n",
    "    elif x==4  :\n",
    "        print(\"*    *\")\n",
    "    elif x==5:\n",
    "        print(\"*****\")"
   ]
  },
  {
   "cell_type": "code",
   "execution_count": 12,
   "id": "73086f81",
   "metadata": {},
   "outputs": [
    {
     "name": "stdout",
     "output_type": "stream",
     "text": [
      "*****\n",
      "*    \n",
      "*****\n",
      "*    \n",
      "*****\n"
     ]
    }
   ],
   "source": [
    "for x in range(6):\n",
    "    if x==1:\n",
    "        print(\"*****\")\n",
    "    elif x==2 :\n",
    "        print(\"*    \")\n",
    "    elif x==3:\n",
    "        print(\"*****\")\n",
    "    elif x==4  :\n",
    "        print(\"*    \")\n",
    "    elif x==5:\n",
    "        print(\"*****\")"
   ]
  },
  {
   "cell_type": "code",
   "execution_count": 13,
   "id": "4cce98d2",
   "metadata": {},
   "outputs": [
    {
     "name": "stdout",
     "output_type": "stream",
     "text": [
      "*****\n",
      "*    \n",
      "*****\n",
      "*    \n",
      "*\n"
     ]
    }
   ],
   "source": [
    "for x in range(6):\n",
    "    if x==1:\n",
    "        print(\"*****\")\n",
    "    elif x==2 :\n",
    "        print(\"*    \")\n",
    "    elif x==3:\n",
    "        print(\"*****\")\n",
    "    elif x==4  :\n",
    "        print(\"*    \")\n",
    "    elif x==5:\n",
    "        print(\"*\")"
   ]
  },
  {
   "cell_type": "code",
   "execution_count": 14,
   "id": "9c5b369f",
   "metadata": {},
   "outputs": [
    {
     "name": "stdout",
     "output_type": "stream",
     "text": [
      "*****\n",
      "*    \n",
      "*  **** \n",
      "*   * *\n",
      "***** *\n"
     ]
    }
   ],
   "source": [
    "for x in range(6):\n",
    "    if x==1:\n",
    "        print(\"*****\")\n",
    "    elif x==2 :\n",
    "        print(\"*    \")\n",
    "    elif x==3:\n",
    "        print(\"*  **** \")\n",
    "    elif x==4  :\n",
    "        print(\"*   * *\")\n",
    "    elif x==5:\n",
    "        print(\"***** *\")"
   ]
  },
  {
   "cell_type": "code",
   "execution_count": 15,
   "id": "cf84b128",
   "metadata": {},
   "outputs": [
    {
     "name": "stdout",
     "output_type": "stream",
     "text": [
      "*    *\n",
      "*    *\n",
      "******\n",
      "*    *\n",
      "*    *\n"
     ]
    }
   ],
   "source": [
    "for x in range(6):\n",
    "    if x==1:\n",
    "        print(\"*    *\")\n",
    "    elif x==2 :\n",
    "        print(\"*    *\")\n",
    "    elif x==3:\n",
    "        print(\"******\")\n",
    "    elif x==4  :\n",
    "        print(\"*    *\")\n",
    "    elif x==5:\n",
    "        print(\"*    *\")"
   ]
  },
  {
   "cell_type": "code",
   "execution_count": 16,
   "id": "9b6d3b92",
   "metadata": {},
   "outputs": [
    {
     "name": "stdout",
     "output_type": "stream",
     "text": [
      "*******\n",
      "   *    \n",
      "   * \n",
      "   *\n",
      "*******\n"
     ]
    }
   ],
   "source": [
    "for x in range(6):\n",
    "    if x==1:\n",
    "        print(\"*******\")\n",
    "    elif x==2 :\n",
    "        print(\"   *    \")\n",
    "    elif x==3:\n",
    "        print(\"   * \")\n",
    "    elif x==4  :\n",
    "        print(\"   *\")\n",
    "    elif x==5:\n",
    "        print(\"*******\")"
   ]
  },
  {
   "cell_type": "code",
   "execution_count": 17,
   "id": "f7b3e4e2",
   "metadata": {},
   "outputs": [
    {
     "name": "stdout",
     "output_type": "stream",
     "text": [
      "*******\n",
      "   *    \n",
      "   * \n",
      "   *\n",
      "****\n"
     ]
    }
   ],
   "source": [
    "for x in range(6):\n",
    "    if x==1:\n",
    "        print(\"*******\")\n",
    "    elif x==2 :\n",
    "        print(\"   *    \")\n",
    "    elif x==3:\n",
    "        print(\"   * \")\n",
    "    elif x==4  :\n",
    "        print(\"   *\")\n",
    "    elif x==5:\n",
    "        print(\"****\")"
   ]
  },
  {
   "cell_type": "code",
   "execution_count": 18,
   "id": "0ae8a9fe",
   "metadata": {},
   "outputs": [
    {
     "name": "stdout",
     "output_type": "stream",
     "text": [
      "*  *\n",
      "* *  \n",
      "**\n",
      "* * \n",
      "*   *\n"
     ]
    }
   ],
   "source": [
    " for x in range(6):\n",
    "    if x==1:\n",
    "        print(\"*  *\")\n",
    "    elif x==2 :\n",
    "        print(\"* *  \")\n",
    "    elif x==3:\n",
    "        print(\"**\")\n",
    "    elif x==4  :\n",
    "        print(\"* * \")\n",
    "    elif x==5:\n",
    "        print(\"*   *\")"
   ]
  },
  {
   "cell_type": "code",
   "execution_count": 19,
   "id": "7850930a",
   "metadata": {},
   "outputs": [
    {
     "name": "stdout",
     "output_type": "stream",
     "text": [
      "*  \n",
      "*   \n",
      "*\n",
      "*  \n",
      "******* \n"
     ]
    }
   ],
   "source": [
    "for x in range(6):\n",
    "    if x==1:\n",
    "        print(\"*  \")\n",
    "    elif x==2 :\n",
    "        print(\"*   \")\n",
    "    elif x==3:\n",
    "        print(\"*\")\n",
    "    elif x==4  :\n",
    "        print(\"*  \")\n",
    "    elif x==5:\n",
    "        print(\"******* \")"
   ]
  },
  {
   "cell_type": "code",
   "execution_count": 20,
   "id": "534b1a6d",
   "metadata": {},
   "outputs": [
    {
     "name": "stdout",
     "output_type": "stream",
     "text": [
      "**        **\n",
      "*   *   *  *\n",
      "*     *    *\n",
      "*          *\n",
      "*          * \n"
     ]
    }
   ],
   "source": [
    "for x in range(6):\n",
    "    if x==1: \n",
    "        print(\"**        **\")\n",
    "    elif x==2 :\n",
    "        print(\"*   *   *  *\")\n",
    "    elif x==3:\n",
    "        print(\"*     *    *\")\n",
    "    elif x==4  : \n",
    "        print(\"*          *\")\n",
    "    elif x==5: \n",
    "        print(\"*          * \")"
   ]
  },
  {
   "cell_type": "code",
   "execution_count": 21,
   "id": "b2fdd27d",
   "metadata": {},
   "outputs": [
    {
     "name": "stdout",
     "output_type": "stream",
     "text": [
      "**          *\n",
      "*   *       *\n",
      "*     *     *\n",
      "*        *  *\n",
      "*          ** \n"
     ]
    }
   ],
   "source": [
    "for x in range(6):\n",
    "    if x==1: \n",
    "        print(\"**          *\")\n",
    "    elif x==2 : \n",
    "        print(\"*   *       *\")\n",
    "    elif x==3:\n",
    "        print(\"*     *     *\")\n",
    "    elif x==4  : \n",
    "        print(\"*        *  *\")\n",
    "    elif x==5: \n",
    "        print(\"*          ** \")"
   ]
  },
  {
   "cell_type": "code",
   "execution_count": 22,
   "id": "f1cfbeb4",
   "metadata": {},
   "outputs": [
    {
     "name": "stdout",
     "output_type": "stream",
     "text": [
      " ******\n",
      "*      *\n",
      "*      *\n",
      "*      *\n",
      " ******\n"
     ]
    }
   ],
   "source": [
    "for x in range(6):\n",
    "    if x==1: \n",
    "        print(\" ******\")\n",
    "    elif x==2 : \n",
    "        print(\"*      *\")\n",
    "    elif x==3:\n",
    "        print(\"*      *\")\n",
    "    elif x==4  : \n",
    "        print(\"*      *\")\n",
    "    elif x==5: \n",
    "        print(\" ******\")"
   ]
  },
  {
   "cell_type": "code",
   "execution_count": 23,
   "id": "0937e3ae",
   "metadata": {},
   "outputs": [
    {
     "name": "stdout",
     "output_type": "stream",
     "text": [
      "*******\n",
      "*      *\n",
      "*******\n",
      "*      \n",
      "*\n"
     ]
    }
   ],
   "source": [
    "for x in range(6):\n",
    "    if x==1: \n",
    "        print(\"*******\")\n",
    "    elif x==2 : \n",
    "        print(\"*      *\")\n",
    "    elif x==3:\n",
    "        print(\"*******\")\n",
    "    elif x==4  : \n",
    "        print(\"*      \")\n",
    "    elif x==5: \n",
    "        print(\"*\")"
   ]
  },
  {
   "cell_type": "code",
   "execution_count": 24,
   "id": "e812bae8",
   "metadata": {},
   "outputs": [
    {
     "name": "stdout",
     "output_type": "stream",
     "text": [
      " ******\n",
      "*      *\n",
      "*  **  *\n",
      "*     **\n",
      " ******  **\n"
     ]
    }
   ],
   "source": [
    "for x in range(6):\n",
    "    if x==1: \n",
    "        print(\" ******\")\n",
    "    elif x==2 : \n",
    "        print(\"*      *\")\n",
    "    elif x==3:\n",
    "        print(\"*  **  *\")\n",
    "    elif x==4  : \n",
    "        print(\"*     **\")\n",
    "    elif x==5: \n",
    "        print(\" ******  **\")"
   ]
  },
  {
   "cell_type": "code",
   "execution_count": 25,
   "id": "57457664",
   "metadata": {},
   "outputs": [
    {
     "name": "stdout",
     "output_type": "stream",
     "text": [
      "*******\n",
      "*      *\n",
      "*******\n",
      "*      *\n",
      "*       *\n"
     ]
    }
   ],
   "source": [
    "for x in range(6):\n",
    "    if x==1: \n",
    "        print(\"*******\")\n",
    "    elif x==2 : \n",
    "        print(\"*      *\")\n",
    "    elif x==3:\n",
    "        print(\"*******\")\n",
    "    elif x==4  : \n",
    "        print(\"*      *\")\n",
    "    elif x==5: \n",
    "        print(\"*       *\")"
   ]
  },
  {
   "cell_type": "code",
   "execution_count": 28,
   "id": "7e670144",
   "metadata": {},
   "outputs": [
    {
     "name": "stdout",
     "output_type": "stream",
     "text": [
      "*******\n",
      "*      \n",
      "*******\n",
      "       *\n",
      "*******\n"
     ]
    }
   ],
   "source": [
    " for x in range(6):\n",
    "    if x==1: \n",
    "        print(\"*******\")\n",
    "    elif x==2 : \n",
    "        print(\"*      \")\n",
    "    elif x==3:\n",
    "        print(\"*******\")\n",
    "    elif x==4  : \n",
    "        print(\"       *\")\n",
    "    elif x==5: \n",
    "        print(\"*******\")"
   ]
  },
  {
   "cell_type": "code",
   "execution_count": 29,
   "id": "960809e3",
   "metadata": {},
   "outputs": [
    {
     "name": "stdout",
     "output_type": "stream",
     "text": [
      "*********\n",
      "    *\n",
      "    *\n",
      "    *\n",
      "    *\n"
     ]
    }
   ],
   "source": [
    "for x in range(6):\n",
    "    if x==1: \n",
    "        print(\"*********\")\n",
    "    elif x==2 : \n",
    "        print(\"    *\")\n",
    "    elif x==3:\n",
    "        print(\"    *\")\n",
    "    elif x==4  : \n",
    "        print(\"    *\")\n",
    "    elif x==5: \n",
    "        print(\"    *\")"
   ]
  },
  {
   "cell_type": "code",
   "execution_count": 30,
   "id": "5ef287c7",
   "metadata": {},
   "outputs": [
    {
     "name": "stdout",
     "output_type": "stream",
     "text": [
      "*      *\n",
      "*      *\n",
      "*      *\n",
      "*      *\n",
      "********\n"
     ]
    }
   ],
   "source": [
    "for x in range(6):\n",
    "    if x==1: \n",
    "        print(\"*      *\")\n",
    "    elif x==2 : \n",
    "        print(\"*      *\")\n",
    "    elif x==3:\n",
    "        print(\"*      *\")\n",
    "    elif x==4  : \n",
    "        print(\"*      *\")\n",
    "    elif x==5: \n",
    "        print(\"********\")"
   ]
  },
  {
   "cell_type": "code",
   "execution_count": 31,
   "id": "d58c7138",
   "metadata": {},
   "outputs": [
    {
     "name": "stdout",
     "output_type": "stream",
     "text": [
      "*         *\n",
      " *       *\n",
      "  *     *\n",
      "   *   *\n",
      "     *\n"
     ]
    }
   ],
   "source": [
    "for x in range(6):\n",
    "    if x==1: \n",
    "        print(\"*         *\")\n",
    "    elif x==2 : \n",
    "        print(\" *       *\")\n",
    "    elif x==3: \n",
    "        print(\"  *     *\")\n",
    "    elif x==4  : \n",
    "        print(\"   *   *\")\n",
    "    elif x==5: \n",
    "        print(\"     *\")"
   ]
  },
  {
   "cell_type": "code",
   "execution_count": 32,
   "id": "df4e659b",
   "metadata": {},
   "outputs": [
    {
     "name": "stdout",
     "output_type": "stream",
     "text": [
      "*       *       *\n",
      " *     * *     *\n",
      "  *   *   *   *\n",
      "   * *     * *\n",
      "    *       *\n"
     ]
    }
   ],
   "source": [
    "for x in range(6):\n",
    "    if x==1: \n",
    "        print(\"*       *       *\")\n",
    "    elif x==2 :\n",
    "        print(\" *     * *     *\")\n",
    "    elif x==3: \n",
    "        print(\"  *   *   *   *\")\n",
    "    elif x==4  : \n",
    "        print(\"   * *     * *\")\n",
    "    elif x==5: \n",
    "        print(\"    *       *\")"
   ]
  },
  {
   "cell_type": "code",
   "execution_count": 36,
   "id": "dd8947ae",
   "metadata": {},
   "outputs": [
    {
     "name": "stdout",
     "output_type": "stream",
     "text": [
      "*      *\n",
      "  *   *\n",
      "    *      \n",
      "  *   *\n",
      "*       *\n"
     ]
    }
   ],
   "source": [
    "for x in range(6):\n",
    "    if x==1: \n",
    "        print(\"*      *\")\n",
    "    elif x==2 : \n",
    "        print(\"  *   *\")\n",
    "    elif x==3:\n",
    "        print(\"    *      \")\n",
    "    elif x==4  : \n",
    "        print(\"  *   *\")\n",
    "    elif x==5: \n",
    "        print(\"*       *\")"
   ]
  },
  {
   "cell_type": "code",
   "execution_count": 37,
   "id": "b2f8d726",
   "metadata": {},
   "outputs": [
    {
     "name": "stdout",
     "output_type": "stream",
     "text": [
      "*      *\n",
      "  *   *\n",
      "    *      \n",
      "  *   \n",
      "*       \n"
     ]
    }
   ],
   "source": [
    "for x in range(6):\n",
    "    if x==1: \n",
    "        print(\"*      *\")\n",
    "    elif x==2 : \n",
    "        print(\"  *   *\")\n",
    "    elif x==3:\n",
    "        print(\"    *      \")\n",
    "    elif x==4  : \n",
    "        print(\"  *   \")\n",
    "    elif x==5: \n",
    "        print(\"*       \")"
   ]
  },
  {
   "cell_type": "code",
   "execution_count": 40,
   "id": "062383d4",
   "metadata": {},
   "outputs": [
    {
     "name": "stdout",
     "output_type": "stream",
     "text": [
      "*******\n",
      "     *\n",
      "   *\n",
      " *      \n",
      "*******\n"
     ]
    }
   ],
   "source": [
    "for x in range(6):\n",
    "    if x==1: \n",
    "        print(\"*******\")\n",
    "    elif x==2 : \n",
    "        print(\"     *\")\n",
    "    elif x==3:\n",
    "        print(\"   *\")\n",
    "    elif x==4  : \n",
    "        print(\" *      \")\n",
    "    elif x==5: \n",
    "        print(\"*******\")"
   ]
  },
  {
   "cell_type": "code",
   "execution_count": null,
   "id": "27f0714a",
   "metadata": {},
   "outputs": [],
   "source": []
  }
 ],
 "metadata": {
  "kernelspec": {
   "display_name": "Python 3",
   "language": "python",
   "name": "python3"
  },
  "language_info": {
   "codemirror_mode": {
    "name": "ipython",
    "version": 3
   },
   "file_extension": ".py",
   "mimetype": "text/x-python",
   "name": "python",
   "nbconvert_exporter": "python",
   "pygments_lexer": "ipython3",
   "version": "3.8.8"
  }
 },
 "nbformat": 4,
 "nbformat_minor": 5
}
