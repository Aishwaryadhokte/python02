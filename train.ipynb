{
 "cells": [
  {
   "cell_type": "code",
   "execution_count": 43,
   "id": "dedb2821",
   "metadata": {},
   "outputs": [],
   "source": [
    "import pandas as pd\n",
    "import numpy as np\n",
    "import matplotlib.pyplot as plt\n",
    "from scipy.linalg import eigh\n",
    "import seaborn as sns\n"
   ]
  },
  {
   "cell_type": "code",
   "execution_count": 44,
   "id": "8ad6ca9c",
   "metadata": {},
   "outputs": [],
   "source": [
    "df1=pd.read_csv(\"C:\\\\Users\\\\Shubh\\\\OneDrive\\\\Desktop\\\\train.csv\")"
   ]
  },
  {
   "cell_type": "markdown",
   "id": "f27ba5a3",
   "metadata": {},
   "source": [
    "# Train csv file"
   ]
  },
  {
   "cell_type": "code",
   "execution_count": 45,
   "id": "11a0d3f5",
   "metadata": {},
   "outputs": [
    {
     "data": {
      "text/html": [
       "<div>\n",
       "<style scoped>\n",
       "    .dataframe tbody tr th:only-of-type {\n",
       "        vertical-align: middle;\n",
       "    }\n",
       "\n",
       "    .dataframe tbody tr th {\n",
       "        vertical-align: top;\n",
       "    }\n",
       "\n",
       "    .dataframe thead th {\n",
       "        text-align: right;\n",
       "    }\n",
       "</style>\n",
       "<table border=\"1\" class=\"dataframe\">\n",
       "  <thead>\n",
       "    <tr style=\"text-align: right;\">\n",
       "      <th></th>\n",
       "      <th>label</th>\n",
       "      <th>pixel0</th>\n",
       "      <th>pixel1</th>\n",
       "      <th>pixel2</th>\n",
       "      <th>pixel3</th>\n",
       "      <th>pixel4</th>\n",
       "      <th>pixel5</th>\n",
       "      <th>pixel6</th>\n",
       "      <th>pixel7</th>\n",
       "      <th>pixel8</th>\n",
       "      <th>...</th>\n",
       "      <th>pixel774</th>\n",
       "      <th>pixel775</th>\n",
       "      <th>pixel776</th>\n",
       "      <th>pixel777</th>\n",
       "      <th>pixel778</th>\n",
       "      <th>pixel779</th>\n",
       "      <th>pixel780</th>\n",
       "      <th>pixel781</th>\n",
       "      <th>pixel782</th>\n",
       "      <th>pixel783</th>\n",
       "    </tr>\n",
       "  </thead>\n",
       "  <tbody>\n",
       "    <tr>\n",
       "      <th>0</th>\n",
       "      <td>1</td>\n",
       "      <td>0</td>\n",
       "      <td>0</td>\n",
       "      <td>0</td>\n",
       "      <td>0</td>\n",
       "      <td>0</td>\n",
       "      <td>0</td>\n",
       "      <td>0</td>\n",
       "      <td>0</td>\n",
       "      <td>0</td>\n",
       "      <td>...</td>\n",
       "      <td>0</td>\n",
       "      <td>0</td>\n",
       "      <td>0</td>\n",
       "      <td>0</td>\n",
       "      <td>0</td>\n",
       "      <td>0</td>\n",
       "      <td>0</td>\n",
       "      <td>0</td>\n",
       "      <td>0</td>\n",
       "      <td>0</td>\n",
       "    </tr>\n",
       "    <tr>\n",
       "      <th>1</th>\n",
       "      <td>0</td>\n",
       "      <td>0</td>\n",
       "      <td>0</td>\n",
       "      <td>0</td>\n",
       "      <td>0</td>\n",
       "      <td>0</td>\n",
       "      <td>0</td>\n",
       "      <td>0</td>\n",
       "      <td>0</td>\n",
       "      <td>0</td>\n",
       "      <td>...</td>\n",
       "      <td>0</td>\n",
       "      <td>0</td>\n",
       "      <td>0</td>\n",
       "      <td>0</td>\n",
       "      <td>0</td>\n",
       "      <td>0</td>\n",
       "      <td>0</td>\n",
       "      <td>0</td>\n",
       "      <td>0</td>\n",
       "      <td>0</td>\n",
       "    </tr>\n",
       "    <tr>\n",
       "      <th>2</th>\n",
       "      <td>1</td>\n",
       "      <td>0</td>\n",
       "      <td>0</td>\n",
       "      <td>0</td>\n",
       "      <td>0</td>\n",
       "      <td>0</td>\n",
       "      <td>0</td>\n",
       "      <td>0</td>\n",
       "      <td>0</td>\n",
       "      <td>0</td>\n",
       "      <td>...</td>\n",
       "      <td>0</td>\n",
       "      <td>0</td>\n",
       "      <td>0</td>\n",
       "      <td>0</td>\n",
       "      <td>0</td>\n",
       "      <td>0</td>\n",
       "      <td>0</td>\n",
       "      <td>0</td>\n",
       "      <td>0</td>\n",
       "      <td>0</td>\n",
       "    </tr>\n",
       "    <tr>\n",
       "      <th>3</th>\n",
       "      <td>4</td>\n",
       "      <td>0</td>\n",
       "      <td>0</td>\n",
       "      <td>0</td>\n",
       "      <td>0</td>\n",
       "      <td>0</td>\n",
       "      <td>0</td>\n",
       "      <td>0</td>\n",
       "      <td>0</td>\n",
       "      <td>0</td>\n",
       "      <td>...</td>\n",
       "      <td>0</td>\n",
       "      <td>0</td>\n",
       "      <td>0</td>\n",
       "      <td>0</td>\n",
       "      <td>0</td>\n",
       "      <td>0</td>\n",
       "      <td>0</td>\n",
       "      <td>0</td>\n",
       "      <td>0</td>\n",
       "      <td>0</td>\n",
       "    </tr>\n",
       "    <tr>\n",
       "      <th>4</th>\n",
       "      <td>0</td>\n",
       "      <td>0</td>\n",
       "      <td>0</td>\n",
       "      <td>0</td>\n",
       "      <td>0</td>\n",
       "      <td>0</td>\n",
       "      <td>0</td>\n",
       "      <td>0</td>\n",
       "      <td>0</td>\n",
       "      <td>0</td>\n",
       "      <td>...</td>\n",
       "      <td>0</td>\n",
       "      <td>0</td>\n",
       "      <td>0</td>\n",
       "      <td>0</td>\n",
       "      <td>0</td>\n",
       "      <td>0</td>\n",
       "      <td>0</td>\n",
       "      <td>0</td>\n",
       "      <td>0</td>\n",
       "      <td>0</td>\n",
       "    </tr>\n",
       "  </tbody>\n",
       "</table>\n",
       "<p>5 rows × 785 columns</p>\n",
       "</div>"
      ],
      "text/plain": [
       "   label  pixel0  pixel1  pixel2  pixel3  pixel4  pixel5  pixel6  pixel7  \\\n",
       "0      1       0       0       0       0       0       0       0       0   \n",
       "1      0       0       0       0       0       0       0       0       0   \n",
       "2      1       0       0       0       0       0       0       0       0   \n",
       "3      4       0       0       0       0       0       0       0       0   \n",
       "4      0       0       0       0       0       0       0       0       0   \n",
       "\n",
       "   pixel8  ...  pixel774  pixel775  pixel776  pixel777  pixel778  pixel779  \\\n",
       "0       0  ...         0         0         0         0         0         0   \n",
       "1       0  ...         0         0         0         0         0         0   \n",
       "2       0  ...         0         0         0         0         0         0   \n",
       "3       0  ...         0         0         0         0         0         0   \n",
       "4       0  ...         0         0         0         0         0         0   \n",
       "\n",
       "   pixel780  pixel781  pixel782  pixel783  \n",
       "0         0         0         0         0  \n",
       "1         0         0         0         0  \n",
       "2         0         0         0         0  \n",
       "3         0         0         0         0  \n",
       "4         0         0         0         0  \n",
       "\n",
       "[5 rows x 785 columns]"
      ]
     },
     "execution_count": 45,
     "metadata": {},
     "output_type": "execute_result"
    }
   ],
   "source": [
    "df1.head()"
   ]
  },
  {
   "cell_type": "markdown",
   "id": "bd541c20",
   "metadata": {},
   "source": [
    "# MNIST data for PCA"
   ]
  },
  {
   "cell_type": "code",
   "execution_count": 46,
   "id": "fe21d150",
   "metadata": {},
   "outputs": [
    {
     "data": {
      "text/plain": [
       "(42000, 785)"
      ]
     },
     "execution_count": 46,
     "metadata": {},
     "output_type": "execute_result"
    }
   ],
   "source": [
    "df1.shape"
   ]
  },
  {
   "cell_type": "markdown",
   "id": "62824653",
   "metadata": {},
   "source": [
    "# In \"785\" Dimension It Is"
   ]
  },
  {
   "cell_type": "code",
   "execution_count": 47,
   "id": "9eacfa5c",
   "metadata": {},
   "outputs": [],
   "source": [
    "label=df1[\"label\"]\n"
   ]
  },
  {
   "cell_type": "markdown",
   "id": "fdeb718f",
   "metadata": {},
   "source": [
    "# Saving the Categorical column in new variable"
   ]
  },
  {
   "cell_type": "code",
   "execution_count": 126,
   "id": "9632fddc",
   "metadata": {},
   "outputs": [],
   "source": [
    "t=df1.head(5000)"
   ]
  },
  {
   "cell_type": "markdown",
   "id": "82f05cee",
   "metadata": {},
   "source": [
    "# Taking a small sample from population\n"
   ]
  },
  {
   "cell_type": "code",
   "execution_count": 7,
   "id": "9a403020",
   "metadata": {},
   "outputs": [
    {
     "data": {
      "text/plain": [
       "(5000, 785)"
      ]
     },
     "execution_count": 7,
     "metadata": {},
     "output_type": "execute_result"
    }
   ],
   "source": [
    "t.shape"
   ]
  },
  {
   "cell_type": "markdown",
   "id": "e493e62f",
   "metadata": {},
   "source": [
    "# Its having 5000 rows in 785 dimension"
   ]
  },
  {
   "cell_type": "code",
   "execution_count": 48,
   "id": "d683fe93",
   "metadata": {},
   "outputs": [],
   "source": [
    "del df1[\"label\"]"
   ]
  },
  {
   "cell_type": "markdown",
   "id": "ecf5cdf4",
   "metadata": {},
   "source": [
    "# Now deleting the categorical column "
   ]
  },
  {
   "cell_type": "code",
   "execution_count": 127,
   "id": "d20853ff",
   "metadata": {},
   "outputs": [],
   "source": [
    "from sklearn.preprocessing import StandardScaler\n"
   ]
  },
  {
   "cell_type": "code",
   "execution_count": 128,
   "id": "749a0006",
   "metadata": {},
   "outputs": [],
   "source": [
    "std=StandardScaler()"
   ]
  },
  {
   "cell_type": "markdown",
   "id": "34e6fef1",
   "metadata": {},
   "source": [
    "# loading StandardScaler for Standardization"
   ]
  },
  {
   "cell_type": "code",
   "execution_count": 129,
   "id": "54dea65b",
   "metadata": {},
   "outputs": [],
   "source": [
    "pdd=std.fit_transform(t)"
   ]
  },
  {
   "cell_type": "markdown",
   "id": "1f3a6754",
   "metadata": {},
   "source": [
    "#  Column standarization to get rid of scale"
   ]
  },
  {
   "cell_type": "code",
   "execution_count": 130,
   "id": "ded69b51",
   "metadata": {},
   "outputs": [],
   "source": [
    "ss=pd.DataFrame(pdd)"
   ]
  },
  {
   "cell_type": "markdown",
   "id": "5990ecc6",
   "metadata": {},
   "source": [
    "# storing in dataFrame"
   ]
  },
  {
   "cell_type": "code",
   "execution_count": 131,
   "id": "c65e650a",
   "metadata": {},
   "outputs": [
    {
     "data": {
      "text/plain": [
       "(5000, 784)"
      ]
     },
     "execution_count": 131,
     "metadata": {},
     "output_type": "execute_result"
    }
   ],
   "source": [
    "t.shape"
   ]
  },
  {
   "cell_type": "code",
   "execution_count": 132,
   "id": "b1b95408",
   "metadata": {},
   "outputs": [
    {
     "data": {
      "text/plain": [
       "(5000, 784)"
      ]
     },
     "execution_count": 132,
     "metadata": {},
     "output_type": "execute_result"
    }
   ],
   "source": [
    "pdd.shape\n"
   ]
  },
  {
   "cell_type": "code",
   "execution_count": 133,
   "id": "17a4d74d",
   "metadata": {},
   "outputs": [],
   "source": [
    "cov_matrix=np.matmul(pdd.T,pdd)\n"
   ]
  },
  {
   "cell_type": "markdown",
   "id": "07de49a0",
   "metadata": {},
   "source": [
    "# creating  square matrix"
   ]
  },
  {
   "cell_type": "code",
   "execution_count": 134,
   "id": "c3e84ac7",
   "metadata": {},
   "outputs": [
    {
     "data": {
      "text/plain": [
       "(784, 784)"
      ]
     },
     "execution_count": 134,
     "metadata": {},
     "output_type": "execute_result"
    }
   ],
   "source": [
    "cov_matrix.shape"
   ]
  },
  {
   "cell_type": "code",
   "execution_count": 135,
   "id": "56a49c59",
   "metadata": {},
   "outputs": [],
   "source": [
    "values,vectors=eigh(cov_matrix,eigvals=(782,783))\n"
   ]
  },
  {
   "cell_type": "markdown",
   "id": "40d82990",
   "metadata": {},
   "source": [
    "# finding eigen value and eigen vector from 785 dimention to  two dimention where the variance is maximum"
   ]
  },
  {
   "cell_type": "code",
   "execution_count": 136,
   "id": "b68cb9c2",
   "metadata": {},
   "outputs": [
    {
     "data": {
      "text/plain": [
       "(784, 2)"
      ]
     },
     "execution_count": 136,
     "metadata": {},
     "output_type": "execute_result"
    }
   ],
   "source": [
    "vectors.shape"
   ]
  },
  {
   "cell_type": "code",
   "execution_count": 137,
   "id": "3a9c5b7b",
   "metadata": {},
   "outputs": [
    {
     "data": {
      "text/plain": [
       "(5000, 784)"
      ]
     },
     "execution_count": 137,
     "metadata": {},
     "output_type": "execute_result"
    }
   ],
   "source": [
    "t.shape\n"
   ]
  },
  {
   "cell_type": "code",
   "execution_count": 138,
   "id": "77acfa35",
   "metadata": {},
   "outputs": [],
   "source": [
    "projected_data=np.matmul(vectors.T,t.T)\n"
   ]
  },
  {
   "cell_type": "markdown",
   "id": "d02f1b60",
   "metadata": {},
   "source": [
    "# Now projecting all values in 2 direction "
   ]
  },
  {
   "cell_type": "code",
   "execution_count": 139,
   "id": "c661a463",
   "metadata": {},
   "outputs": [
    {
     "data": {
      "text/plain": [
       "(5000, 2)"
      ]
     },
     "execution_count": 139,
     "metadata": {},
     "output_type": "execute_result"
    }
   ],
   "source": [
    "projected_data.T.shape"
   ]
  },
  {
   "cell_type": "code",
   "execution_count": 140,
   "id": "0a9b48bc",
   "metadata": {},
   "outputs": [],
   "source": [
    "tyh=pd.DataFrame(projected_data.T)"
   ]
  },
  {
   "cell_type": "markdown",
   "id": "f0f1ba7b",
   "metadata": {},
   "source": [
    "# converting in Dataframe"
   ]
  },
  {
   "cell_type": "code",
   "execution_count": 156,
   "id": "90b43f6d",
   "metadata": {},
   "outputs": [],
   "source": [
    "tyh[\"label\"]=label"
   ]
  },
  {
   "cell_type": "code",
   "execution_count": 142,
   "id": "17402b33",
   "metadata": {},
   "outputs": [
    {
     "data": {
      "text/plain": [
       "<seaborn.axisgrid.FacetGrid at 0x209f8f082e0>"
      ]
     },
     "execution_count": 142,
     "metadata": {},
     "output_type": "execute_result"
    },
    {
     "data": {
      "image/png": "[encoded data removed]",
      "text/plain": [
       "<Figure size 216x216 with 1 Axes>"
      ]
     },
     "metadata": {
      "needs_background": "light"
     },
     "output_type": "display_data"
    }
   ],
   "source": [
    "x=sns.FacetGrid(tyh,hue=\"label\")\n",
    "x.map(plt.scatter,0,1)\n"
   ]
  },
  {
   "cell_type": "markdown",
   "id": "e77f1518",
   "metadata": {},
   "source": [
    "# Plotting the points in graph .We can see after taking sample for visualization the points are still overlapping"
   ]
  },
  {
   "cell_type": "code",
   "execution_count": 143,
   "id": "80a22001",
   "metadata": {},
   "outputs": [],
   "source": [
    "values,vectores=eigh(cov_matrix)"
   ]
  },
  {
   "cell_type": "code",
   "execution_count": 145,
   "id": "5e6b78dc",
   "metadata": {},
   "outputs": [],
   "source": [
    "total=np.sum(values)"
   ]
  },
  {
   "cell_type": "markdown",
   "id": "54a2589d",
   "metadata": {},
   "source": [
    "# For finding the percentage for information preserving in this sample we calculate total first"
   ]
  },
  {
   "cell_type": "code",
   "execution_count": 146,
   "id": "1cafae1e",
   "metadata": {},
   "outputs": [
    {
     "data": {
      "text/plain": [
       "345320.71300059103"
      ]
     },
     "execution_count": 146,
     "metadata": {},
     "output_type": "execute_result"
    }
   ],
   "source": [
    "values[782]+values[783]"
   ]
  },
  {
   "cell_type": "markdown",
   "id": "f835763c",
   "metadata": {},
   "source": [
    "# Adding two values where the varince is maximum"
   ]
  },
  {
   "cell_type": "code",
   "execution_count": 147,
   "id": "faecbe0a",
   "metadata": {},
   "outputs": [
    {
     "data": {
      "text/plain": [
       "0.10448433071122233"
      ]
     },
     "execution_count": 147,
     "metadata": {},
     "output_type": "execute_result"
    }
   ],
   "source": [
    "(values[782]+values[783])/total"
   ]
  },
  {
   "cell_type": "markdown",
   "id": "318c5424",
   "metadata": {},
   "source": [
    "# only 10% information we are preserving."
   ]
  },
  {
   "cell_type": "markdown",
   "id": "55748edf",
   "metadata": {},
   "source": [
    "# Hence its not a good PCA for visualization."
   ]
  },
  {
   "cell_type": "markdown",
   "id": "da93d054",
   "metadata": {},
   "source": [
    "# -------------------------------------------------------------------------------------"
   ]
  },
  {
   "cell_type": "code",
   "execution_count": 148,
   "id": "8a8d5a70",
   "metadata": {},
   "outputs": [],
   "source": [
    "t=df1.head(25)"
   ]
  },
  {
   "cell_type": "markdown",
   "id": "f1a9061f",
   "metadata": {},
   "source": [
    "# taking a small sample of 25 datapoints for visualization"
   ]
  },
  {
   "cell_type": "code",
   "execution_count": 150,
   "id": "dce61088",
   "metadata": {},
   "outputs": [],
   "source": [
    "pdd=std.fit_transform(t)"
   ]
  },
  {
   "cell_type": "code",
   "execution_count": 151,
   "id": "165433b3",
   "metadata": {},
   "outputs": [],
   "source": [
    "ss=pd.DataFrame(pdd)"
   ]
  },
  {
   "cell_type": "code",
   "execution_count": 152,
   "id": "c30c4a01",
   "metadata": {},
   "outputs": [],
   "source": [
    "cov_matrix=np.matmul(pdd.T,pdd)"
   ]
  },
  {
   "cell_type": "code",
   "execution_count": 153,
   "id": "aad6e992",
   "metadata": {},
   "outputs": [],
   "source": [
    "values,vectors=eigh(cov_matrix,eigvals=(782,783))"
   ]
  },
  {
   "cell_type": "code",
   "execution_count": 154,
   "id": "9fa6b9f4",
   "metadata": {},
   "outputs": [],
   "source": [
    "projected_data=np.matmul(vectors.T,t.T)"
   ]
  },
  {
   "cell_type": "code",
   "execution_count": 155,
   "id": "f56381b3",
   "metadata": {},
   "outputs": [],
   "source": [
    "tyh=pd.DataFrame(projected_data.T)"
   ]
  },
  {
   "cell_type": "code",
   "execution_count": 157,
   "id": "3e9a37ac",
   "metadata": {},
   "outputs": [
    {
     "data": {
      "text/plain": [
       "<seaborn.axisgrid.FacetGrid at 0x209f90b8820>"
      ]
     },
     "execution_count": 157,
     "metadata": {},
     "output_type": "execute_result"
    },
    {
     "data": {
      "image/png": "[encoded data removed]",
      "text/plain": [
       "<Figure size 216x216 with 1 Axes>"
      ]
     },
     "metadata": {
      "needs_background": "light"
     },
     "output_type": "display_data"
    }
   ],
   "source": [
    "x=sns.FacetGrid(tyh,hue=\"label\")\n",
    "x.map(plt.scatter,0,1)"
   ]
  },
  {
   "cell_type": "markdown",
   "id": "6284f9a9",
   "metadata": {},
   "source": [
    "# still we are unable to differentiate"
   ]
  },
  {
   "cell_type": "code",
   "execution_count": 158,
   "id": "5850ae58",
   "metadata": {},
   "outputs": [],
   "source": [
    "values,vectores=eigh(cov_matrix)"
   ]
  },
  {
   "cell_type": "code",
   "execution_count": 159,
   "id": "9dc0f295",
   "metadata": {},
   "outputs": [],
   "source": [
    "total=np.sum(values)"
   ]
  },
  {
   "cell_type": "code",
   "execution_count": 160,
   "id": "d0cf9d4e",
   "metadata": {},
   "outputs": [
    {
     "data": {
      "text/plain": [
       "3260.665790992318"
      ]
     },
     "execution_count": 160,
     "metadata": {},
     "output_type": "execute_result"
    }
   ],
   "source": [
    "values[782]+values[783]"
   ]
  },
  {
   "cell_type": "code",
   "execution_count": 161,
   "id": "4c0ce3ca",
   "metadata": {},
   "outputs": [
    {
     "data": {
      "text/plain": [
       "0.2937536748641728"
      ]
     },
     "execution_count": 161,
     "metadata": {},
     "output_type": "execute_result"
    }
   ],
   "source": [
    "(values[782]+values[783])/total"
   ]
  },
  {
   "cell_type": "markdown",
   "id": "838ae810",
   "metadata": {},
   "source": [
    "# Here we are preserving 29% of information."
   ]
  },
  {
   "cell_type": "markdown",
   "id": "8e5c6e99",
   "metadata": {},
   "source": []
  }
 ],
 "metadata": {
  "kernelspec": {
   "display_name": "Python 3",
   "language": "python",
   "name": "python3"
  },
  "language_info": {
   "codemirror_mode": {
    "name": "ipython",
    "version": 3
   },
   "file_extension": ".py",
   "mimetype": "text/x-python",
   "name": "python",
   "nbconvert_exporter": "python",
   "pygments_lexer": "ipython3",
   "version": "3.8.8"
  }
 },
 "nbformat": 4,
 "nbformat_minor": 5
}
