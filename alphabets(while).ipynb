{
 "cells": [
  {
   "cell_type": "code",
   "execution_count": 1,
   "id": "8355a99f",
   "metadata": {},
   "outputs": [
    {
     "name": "stdout",
     "output_type": "stream",
     "text": [
      "  ** \n",
      "*    *\n",
      "*    *\n",
      "******\n",
      "*    *\n",
      "*    *\n"
     ]
    }
   ],
   "source": [
    "x=1\n",
    "while x<7:\n",
    "    if x==1:\n",
    "        print(\"  ** \")\n",
    "    elif x==2 or x==3:\n",
    "        print(\"*    *\")\n",
    "    elif x==4:\n",
    "        print(\"******\")\n",
    "    elif x==5  or x==6:\n",
    "        print(\"*    *\")\n",
    "    x=x+1"
   ]
  },
  {
   "cell_type": "code",
   "execution_count": 6,
   "id": "9bdb04d5",
   "metadata": {},
   "outputs": [
    {
     "name": "stdout",
     "output_type": "stream",
     "text": [
      "*****\n",
      "*    *\n",
      "*****\n",
      "*    *\n",
      "*****\n"
     ]
    }
   ],
   "source": [
    "x=1\n",
    "while x<6:\n",
    "    if x==1:\n",
    "        print(\"*****\")\n",
    "    elif x==2 :\n",
    "        print(\"*    *\")\n",
    "    elif x==3:\n",
    "        print(\"*****\")\n",
    "    elif x==4  :\n",
    "        print(\"*    *\")\n",
    "    elif x==5:\n",
    "        print(\"*****\")\n",
    "    x=x+1"
   ]
  },
  {
   "cell_type": "code",
   "execution_count": 7,
   "id": "82e078b3",
   "metadata": {},
   "outputs": [
    {
     "name": "stdout",
     "output_type": "stream",
     "text": [
      "*****\n",
      "*    \n",
      "*\n",
      "*    \n",
      "*****\n"
     ]
    }
   ],
   "source": [
    "x=1\n",
    "while x<6:\n",
    "    if x==1:\n",
    "        print(\"*****\")\n",
    "    elif x==2 :\n",
    "        print(\"*    \")\n",
    "    elif x==3:\n",
    "        print(\"*\")\n",
    "    elif x==4  :\n",
    "        print(\"*    \")\n",
    "    elif x==5:\n",
    "        print(\"*****\")\n",
    "    x=x+1"
   ]
  },
  {
   "cell_type": "code",
   "execution_count": 8,
   "id": "626fd911",
   "metadata": {},
   "outputs": [
    {
     "name": "stdout",
     "output_type": "stream",
     "text": [
      "*****\n",
      "*    *\n",
      "*     *\n",
      "*    *\n",
      "*****\n"
     ]
    }
   ],
   "source": [
    "x=1\n",
    "while x<6:\n",
    "    if x==1:\n",
    "        print(\"*****\")\n",
    "    elif x==2 :\n",
    "        print(\"*    *\")\n",
    "    elif x==3:\n",
    "        print(\"*     *\")\n",
    "    elif x==4  :\n",
    "        print(\"*    *\")\n",
    "    elif x==5:\n",
    "        print(\"*****\")\n",
    "    x=x+1"
   ]
  },
  {
   "cell_type": "code",
   "execution_count": 9,
   "id": "df0aac86",
   "metadata": {},
   "outputs": [
    {
     "name": "stdout",
     "output_type": "stream",
     "text": [
      "*****\n",
      "*    \n",
      "*****\n",
      "*    \n",
      "*****\n"
     ]
    }
   ],
   "source": [
    "x=1\n",
    "while x<6:\n",
    "    if x==1:\n",
    "        print(\"*****\")\n",
    "    elif x==2 :\n",
    "        print(\"*    \")\n",
    "    elif x==3:\n",
    "        print(\"*****\")\n",
    "    elif x==4  :\n",
    "        print(\"*    \")\n",
    "    elif x==5:\n",
    "        print(\"*****\")\n",
    "    x=x+1"
   ]
  },
  {
   "cell_type": "code",
   "execution_count": 11,
   "id": "c51280eb",
   "metadata": {},
   "outputs": [
    {
     "name": "stdout",
     "output_type": "stream",
     "text": [
      "*****\n",
      "*    \n",
      "*****\n",
      "*    \n",
      "*\n"
     ]
    }
   ],
   "source": [
    "x=1\n",
    "while x<6:\n",
    "    if x==1:\n",
    "        print(\"*****\")\n",
    "    elif x==2 :\n",
    "        print(\"*    \")\n",
    "    elif x==3:\n",
    "        print(\"*****\")\n",
    "    elif x==4  :\n",
    "        print(\"*    \")\n",
    "    elif x==5:\n",
    "        print(\"*\")\n",
    "    x=x+1"
   ]
  },
  {
   "cell_type": "code",
   "execution_count": 18,
   "id": "90ab7ce8",
   "metadata": {},
   "outputs": [
    {
     "name": "stdout",
     "output_type": "stream",
     "text": [
      "*****\n",
      "*    \n",
      "*  **** \n",
      "*   * *\n",
      "***** *\n"
     ]
    }
   ],
   "source": [
    "x=1\n",
    "while x<6:\n",
    "    if x==1:\n",
    "        print(\"*****\")\n",
    "    elif x==2 :\n",
    "        print(\"*    \")\n",
    "    elif x==3:\n",
    "        print(\"*  **** \")\n",
    "    elif x==4  :\n",
    "        print(\"*   * *\")\n",
    "    elif x==5:\n",
    "        print(\"***** *\")\n",
    "    x=x+1"
   ]
  },
  {
   "cell_type": "code",
   "execution_count": 21,
   "id": "940fe8c8",
   "metadata": {},
   "outputs": [
    {
     "name": "stdout",
     "output_type": "stream",
     "text": [
      "*    *\n",
      "*    *\n",
      "******\n",
      "*    *\n",
      "*    *\n"
     ]
    }
   ],
   "source": [
    "x=1\n",
    "while x<6:\n",
    "    if x==1:\n",
    "        print(\"*    *\")\n",
    "    elif x==2 :\n",
    "        print(\"*    *\")\n",
    "    elif x==3:\n",
    "        print(\"******\")\n",
    "    elif x==4  :\n",
    "        print(\"*    *\")\n",
    "    elif x==5:\n",
    "        print(\"*    *\")\n",
    "    x=x+1"
   ]
  },
  {
   "cell_type": "code",
   "execution_count": 24,
   "id": "092d21c8",
   "metadata": {},
   "outputs": [
    {
     "name": "stdout",
     "output_type": "stream",
     "text": [
      "*******\n",
      "   *    \n",
      "   * \n",
      "   *\n",
      "*******\n"
     ]
    }
   ],
   "source": [
    "x=1\n",
    "while x<6:\n",
    "    if x==1:\n",
    "        print(\"*******\")\n",
    "    elif x==2 :\n",
    "        print(\"   *    \")\n",
    "    elif x==3:\n",
    "        print(\"   * \")\n",
    "    elif x==4  :\n",
    "        print(\"   *\")\n",
    "    elif x==5:\n",
    "        print(\"*******\")\n",
    "    x=x+1"
   ]
  },
  {
   "cell_type": "code",
   "execution_count": 25,
   "id": "b4533336",
   "metadata": {},
   "outputs": [
    {
     "name": "stdout",
     "output_type": "stream",
     "text": [
      "*******\n",
      "   *    \n",
      "   * \n",
      "   *\n",
      "****\n"
     ]
    }
   ],
   "source": [
    "x=1\n",
    "while x<6:\n",
    "    if x==1:\n",
    "        print(\"*******\")\n",
    "    elif x==2 :\n",
    "        print(\"   *    \")\n",
    "    elif x==3:\n",
    "        print(\"   * \")\n",
    "    elif x==4  :\n",
    "        print(\"   *\")\n",
    "    elif x==5:\n",
    "        print(\"****\")\n",
    "    x=x+1"
   ]
  },
  {
   "cell_type": "code",
   "execution_count": 35,
   "id": "1ed012fa",
   "metadata": {},
   "outputs": [
    {
     "name": "stdout",
     "output_type": "stream",
     "text": [
      "*  *\n",
      "* *  \n",
      "**\n",
      "* * \n",
      "*   *\n"
     ]
    }
   ],
   "source": [
    "x=1\n",
    "while x<6:\n",
    "    if x==1:\n",
    "        print(\"*  *\")\n",
    "    elif x==2 :\n",
    "        print(\"* *  \")\n",
    "    elif x==3:\n",
    "        print(\"**\")\n",
    "    elif x==4  :\n",
    "        print(\"* * \")\n",
    "    elif x==5:\n",
    "        print(\"*   *\")\n",
    "    x=x+1"
   ]
  },
  {
   "cell_type": "code",
   "execution_count": 37,
   "id": "4edbabab",
   "metadata": {},
   "outputs": [
    {
     "name": "stdout",
     "output_type": "stream",
     "text": [
      "*  \n",
      "*   \n",
      "*\n",
      "*  \n",
      "******* \n"
     ]
    }
   ],
   "source": [
    "x=1\n",
    "while x<6:\n",
    "    if x==1:\n",
    "        print(\"*  \")\n",
    "    elif x==2 :\n",
    "        print(\"*   \")\n",
    "    elif x==3:\n",
    "        print(\"*\")\n",
    "    elif x==4  :\n",
    "        print(\"*  \")\n",
    "    elif x==5:\n",
    "        print(\"******* \")\n",
    "    x=x+1"
   ]
  },
  {
   "cell_type": "code",
   "execution_count": 57,
   "id": "0b6fcd06",
   "metadata": {},
   "outputs": [
    {
     "name": "stdout",
     "output_type": "stream",
     "text": [
      "**        **\n",
      "*   *   *  *\n",
      "*     *    *\n",
      "*          *\n",
      "*          * \n"
     ]
    }
   ],
   "source": [
    "x=1\n",
    "while x<6:\n",
    "    if x==1: \n",
    "        print(\"**        **\")\n",
    "    elif x==2 :\n",
    "        print(\"*   *   *  *\")\n",
    "    elif x==3:\n",
    "        print(\"*     *    *\")\n",
    "    elif x==4  : \n",
    "        print(\"*          *\")\n",
    "    elif x==5: \n",
    "        print(\"*          * \")\n",
    "    x=x+1"
   ]
  },
  {
   "cell_type": "code",
   "execution_count": 62,
   "id": "5a8f8800",
   "metadata": {},
   "outputs": [
    {
     "name": "stdout",
     "output_type": "stream",
     "text": [
      "**          *\n",
      "*   *       *\n",
      "*     *     *\n",
      "*        *  *\n",
      "*          ** \n"
     ]
    }
   ],
   "source": [
    "x=1\n",
    "while x<6:\n",
    "    if x==1: \n",
    "        print(\"**          *\")\n",
    "    elif x==2 : \n",
    "        print(\"*   *       *\")\n",
    "    elif x==3:\n",
    "        print(\"*     *     *\")\n",
    "    elif x==4  : \n",
    "        print(\"*        *  *\")\n",
    "    elif x==5: \n",
    "        print(\"*          ** \")\n",
    "    x=x+1"
   ]
  },
  {
   "cell_type": "code",
   "execution_count": 66,
   "id": "6b2a39df",
   "metadata": {},
   "outputs": [
    {
     "name": "stdout",
     "output_type": "stream",
     "text": [
      " ******\n",
      "*      *\n",
      "*      *\n",
      "*      *\n",
      " ******\n"
     ]
    }
   ],
   "source": [
    "x=1\n",
    "while x<6:\n",
    "    if x==1: \n",
    "        print(\" ******\")\n",
    "    elif x==2 : \n",
    "        print(\"*      *\")\n",
    "    elif x==3:\n",
    "        print(\"*      *\")\n",
    "    elif x==4  : \n",
    "        print(\"*      *\")\n",
    "    elif x==5: \n",
    "        print(\" ******\")\n",
    "    x=x+1"
   ]
  },
  {
   "cell_type": "code",
   "execution_count": 78,
   "id": "8b3f8fdc",
   "metadata": {},
   "outputs": [
    {
     "name": "stdout",
     "output_type": "stream",
     "text": [
      "*******\n",
      "*      *\n",
      "*******\n",
      "*      \n",
      "*\n"
     ]
    }
   ],
   "source": [
    "x=1\n",
    "while x<6:\n",
    "    if x==1: \n",
    "        print(\"*******\")\n",
    "    elif x==2 : \n",
    "        print(\"*      *\")\n",
    "    elif x==3:\n",
    "        print(\"*******\")\n",
    "    elif x==4  : \n",
    "        print(\"*      \")\n",
    "    elif x==5: \n",
    "        print(\"*\")\n",
    "    x=x+1"
   ]
  },
  {
   "cell_type": "code",
   "execution_count": 79,
   "id": "6bb5e638",
   "metadata": {},
   "outputs": [
    {
     "name": "stdout",
     "output_type": "stream",
     "text": [
      " ******\n",
      "*      *\n",
      "*  **  *\n",
      "*     **\n",
      " ******  **\n"
     ]
    }
   ],
   "source": [
    "x=1\n",
    "while x<6:\n",
    "    if x==1: \n",
    "        print(\" ******\")\n",
    "    elif x==2 : \n",
    "        print(\"*      *\")\n",
    "    elif x==3:\n",
    "        print(\"*  **  *\")\n",
    "    elif x==4  : \n",
    "        print(\"*     **\")\n",
    "    elif x==5: \n",
    "        print(\" ******  **\")\n",
    "    x=x+1"
   ]
  },
  {
   "cell_type": "code",
   "execution_count": 80,
   "id": "94e31bbd",
   "metadata": {},
   "outputs": [
    {
     "name": "stdout",
     "output_type": "stream",
     "text": [
      "*******\n",
      "*      *\n",
      "*******\n",
      "*      *\n",
      "*       *\n"
     ]
    }
   ],
   "source": [
    "x=1\n",
    "while x<6:\n",
    "    if x==1: \n",
    "        print(\"*******\")\n",
    "    elif x==2 : \n",
    "        print(\"*      *\")\n",
    "    elif x==3:\n",
    "        print(\"*******\")\n",
    "    elif x==4  : \n",
    "        print(\"*      *\")\n",
    "    elif x==5: \n",
    "        print(\"*       *\")\n",
    "    x=x+1"
   ]
  },
  {
   "cell_type": "code",
   "execution_count": 82,
   "id": "a4b4eca1",
   "metadata": {},
   "outputs": [
    {
     "name": "stdout",
     "output_type": "stream",
     "text": [
      "*******\n",
      "*      \n",
      "*******\n",
      "       *\n",
      "*******\n"
     ]
    }
   ],
   "source": [
    "x=1\n",
    "while x<6:\n",
    "    if x==1: \n",
    "        print(\"*******\")\n",
    "    elif x==2 : \n",
    "        print(\"*      \")\n",
    "    elif x==3:\n",
    "        print(\"*******\")\n",
    "    elif x==4  : \n",
    "        print(\"       *\")\n",
    "    elif x==5: \n",
    "        print(\"*******\")\n",
    "    x=x+1"
   ]
  },
  {
   "cell_type": "code",
   "execution_count": 125,
   "id": "79e710da",
   "metadata": {},
   "outputs": [
    {
     "name": "stdout",
     "output_type": "stream",
     "text": [
      "*********\n",
      "    *\n",
      "    *\n",
      "    *\n",
      "    *\n"
     ]
    }
   ],
   "source": [
    "x=1\n",
    "while x<6:\n",
    "    if x==1: \n",
    "        print(\"*********\")\n",
    "    elif x==2 : \n",
    "        print(\"    *\")\n",
    "    elif x==3:\n",
    "        print(\"    *\")\n",
    "    elif x==4  : \n",
    "        print(\"    *\")\n",
    "    elif x==5: \n",
    "        print(\"    *\")\n",
    "    x=x+1"
   ]
  },
  {
   "cell_type": "code",
   "execution_count": 89,
   "id": "87c641a5",
   "metadata": {},
   "outputs": [
    {
     "name": "stdout",
     "output_type": "stream",
     "text": [
      "*      *\n",
      "*      *\n",
      "*      *\n",
      "*      *\n",
      "********\n"
     ]
    }
   ],
   "source": [
    "x=1\n",
    "while x<6:\n",
    "    if x==1: \n",
    "        print(\"*      *\")\n",
    "    elif x==2 : \n",
    "        print(\"*      *\")\n",
    "    elif x==3:\n",
    "        print(\"*      *\")\n",
    "    elif x==4  : \n",
    "        print(\"*      *\")\n",
    "    elif x==5: \n",
    "        print(\"********\")\n",
    "    x=x+1"
   ]
  },
  {
   "cell_type": "code",
   "execution_count": 97,
   "id": "8fdf4bd6",
   "metadata": {},
   "outputs": [
    {
     "name": "stdout",
     "output_type": "stream",
     "text": [
      "*         *\n",
      " *       *\n",
      "  *     *\n",
      "   *   *\n",
      "     *\n"
     ]
    }
   ],
   "source": [
    "x=1\n",
    "while x<6:\n",
    "    if x==1: \n",
    "        print(\"*         *\")\n",
    "    elif x==2 : \n",
    "        print(\" *       *\")\n",
    "    elif x==3: \n",
    "        print(\"  *     *\")\n",
    "    elif x==4  : \n",
    "        print(\"   *   *\")\n",
    "    elif x==5: \n",
    "        print(\"     *\")\n",
    "    x=x+1"
   ]
  },
  {
   "cell_type": "code",
   "execution_count": 129,
   "id": "7c0de4a0",
   "metadata": {},
   "outputs": [
    {
     "name": "stdout",
     "output_type": "stream",
     "text": [
      "*       *       *\n",
      " *     * *     *\n",
      "  *   *   *   *\n",
      "   * *     * *\n",
      "    *       *\n"
     ]
    }
   ],
   "source": [
    "x=1\n",
    "while x<6:\n",
    "    if x==1: \n",
    "        print(\"*       *       *\")\n",
    "    elif x==2 :\n",
    "        print(\" *     * *     *\")\n",
    "    elif x==3: \n",
    "        print(\"  *   *   *   *\")\n",
    "    elif x==4  : \n",
    "        print(\"   * *     * *\")\n",
    "    elif x==5: \n",
    "        print(\"    *       *\")\n",
    "    x=x+1"
   ]
  },
  {
   "cell_type": "code",
   "execution_count": 119,
   "id": "8164d334",
   "metadata": {},
   "outputs": [
    {
     "name": "stdout",
     "output_type": "stream",
     "text": [
      "*      *\n",
      "  *   *\n",
      "    *      \n",
      "  *   *\n",
      "*       *\n"
     ]
    }
   ],
   "source": [
    "x=1\n",
    "while x<6:\n",
    "    if x==1: \n",
    "        print(\"*      *\")\n",
    "    elif x==2 : \n",
    "        print(\"  *   *\")\n",
    "    elif x==3:\n",
    "        print(\"    *      \")\n",
    "    elif x==4  : \n",
    "        print(\"  *   *\")\n",
    "    elif x==5: \n",
    "        print(\"*       *\")\n",
    "    x=x+1"
   ]
  },
  {
   "cell_type": "code",
   "execution_count": 120,
   "id": "92b6c368",
   "metadata": {},
   "outputs": [
    {
     "name": "stdout",
     "output_type": "stream",
     "text": [
      "*      *\n",
      "  *   *\n",
      "    *      \n",
      "  *   \n",
      "*       \n"
     ]
    }
   ],
   "source": [
    "x=1\n",
    "while x<6:\n",
    "    if x==1: \n",
    "        print(\"*      *\")\n",
    "    elif x==2 : \n",
    "        print(\"  *   *\")\n",
    "    elif x==3:\n",
    "        print(\"    *      \")\n",
    "    elif x==4  : \n",
    "        print(\"  *   \")\n",
    "    elif x==5: \n",
    "        print(\"*       \")\n",
    "    x=x+1"
   ]
  },
  {
   "cell_type": "code",
   "execution_count": 124,
   "id": "be40ec39",
   "metadata": {},
   "outputs": [
    {
     "name": "stdout",
     "output_type": "stream",
     "text": [
      "*******\n",
      "     *\n",
      "   *\n",
      " *      \n",
      "*******\n"
     ]
    }
   ],
   "source": [
    "x=1\n",
    "while x<6:\n",
    "    if x==1: \n",
    "        print(\"*******\")\n",
    "    elif x==2 : \n",
    "        print(\"     *\")\n",
    "    elif x==3:\n",
    "        print(\"   *\")\n",
    "    elif x==4  : \n",
    "        print(\" *      \")\n",
    "    elif x==5: \n",
    "        print(\"*******\")\n",
    "    x=x+1"
   ]
  },
  {
   "cell_type": "code",
   "execution_count": null,
   "id": "af763574",
   "metadata": {},
   "outputs": [],
   "source": []
  },
  {
   "cell_type": "code",
   "execution_count": 24,
   "id": "0f9901ed",
   "metadata": {},
   "outputs": [],
   "source": [
    "import numpy"
   ]
  },
  {
   "cell_type": "code",
   "execution_count": 23,
   "id": "3f2fe2aa",
   "metadata": {},
   "outputs": [
    {
     "name": "stdout",
     "output_type": "stream",
     "text": [
      "1\n"
     ]
    }
   ],
   "source": [
    "print(random.randint(1,6))"
   ]
  },
  {
   "cell_type": "code",
   "execution_count": 27,
   "id": "f454ce54",
   "metadata": {},
   "outputs": [
    {
     "name": "stdout",
     "output_type": "stream",
     "text": [
      "Lorem ipsum dolor sit amet,\n",
      "consectetur adipiscing elit,\n",
      "sed do eiusmod tempor incididunt\n",
      "ut labore et dolore magna aliqua.\n"
     ]
    }
   ],
   "source": [
    "a = \"\"\"Lorem ipsum dolor sit amet,\n",
    "consectetur adipiscing elit,\n",
    "sed do eiusmod tempor incididunt\n",
    "ut labore et dolore magna aliqua.\"\"\"\n",
    "print(a)"
   ]
  },
  {
   "cell_type": "code",
   "execution_count": null,
   "id": "b9065c70",
   "metadata": {},
   "outputs": [],
   "source": []
  }
 ],
 "metadata": {
  "kernelspec": {
   "display_name": "Python 3",
   "language": "python",
   "name": "python3"
  },
  "language_info": {
   "codemirror_mode": {
    "name": "ipython",
    "version": 3
   },
   "file_extension": ".py",
   "mimetype": "text/x-python",
   "name": "python",
   "nbconvert_exporter": "python",
   "pygments_lexer": "ipython3",
   "version": "3.8.8"
  }
 },
 "nbformat": 4,
 "nbformat_minor": 5
}
