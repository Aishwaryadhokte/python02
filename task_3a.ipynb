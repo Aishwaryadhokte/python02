{
 "cells": [
  {
   "cell_type": "code",
   "execution_count": 23,
   "id": "aa4f0615",
   "metadata": {},
   "outputs": [
    {
     "name": "stdout",
     "output_type": "stream",
     "text": [
      "Conversion of Meter to Foot type 'M' \n",
      "Conversion of Foot to Meter type'F'\n",
      "Enter a word:m\n",
      "enter the meter value:2\n",
      "The value of  2.0 meter is 6.56168 foot\n"
     ]
    }
   ],
   "source": [
    "#1)Create a program that converts feet metered or meters to feet\n",
    "print(\"Conversion of Meter to Foot type \\'M\\' \\nConversion of Foot to Meter type\\'F\\'\")\n",
    "val=(input(\"Enter a word:\"))\n",
    "if val==\"M\"or val==\"m\":\n",
    "    meter=float(input(\"enter the meter value:\"))\n",
    "    print(\"The value of \",meter,\"meter is\",meter*3.28084,\"foot\")\n",
    "elif val==\"F\" or val==\"f\":\n",
    "    foot=float(input(\"enter the foot value:\"))\n",
    "    print(\"The value of \",foot ,\"foot is\",foot/3.28084,\"meter\")\n",
    "    \n",
    "\n",
    "        "
   ]
  },
  {
   "cell_type": "code",
   "execution_count": 47,
   "id": "baaf2032",
   "metadata": {},
   "outputs": [
    {
     "name": "stdout",
     "output_type": "stream",
     "text": [
      "Enter side value:7\n",
      "Enter side value:9\n",
      "The hypotenuse of a right angled triangle is: 65.0\n"
     ]
    }
   ],
   "source": [
    "#2)program that calculate the hypotenuse of a right angled triangle\n",
    "a=int(input(\"Enter side value:\"))\n",
    "b=int(input(\"Enter side value:\"))\n",
    "c=(a**2+b**2)*0.5\n",
    "print(\"The hypotenuse of a right angled triangle is:\",c)\n"
   ]
  },
  {
   "cell_type": "code",
   "execution_count": null,
   "id": "d21d0494",
   "metadata": {},
   "outputs": [],
   "source": [
    "#3) program that createsa a rectangle of the input character\n",
    "a=int (input(\"enter a number:\"))\n",
    "b=int(input (\"enter a number:\"))\n",
    "for i in range(0,a):\n",
    "    print(\"*\",end=\" \")\n",
    "print()\n",
    "for j in range(0,b):\n",
    "    print(\".\",\" \"*(a),\".\")\n",
    "for i in range(0,a):\n",
    "    print(\"*\",end=\" \")\n",
    "    \n",
    "\n"
   ]
  },
  {
   "cell_type": "code",
   "execution_count": 1,
   "id": "878daa88",
   "metadata": {},
   "outputs": [
    {
     "name": "stdout",
     "output_type": "stream",
     "text": [
      "enter the height 1:1\n",
      "enter the height 1:12\n",
      "enter the height 1:\n",
      "all are correctly lined up  \n"
     ]
    }
   ],
   "source": [
    "#4)program that finds out if a heights of the inputs people are correctly lined up.\n",
    "i=1\n",
    "while(i<10):\n",
    "  j=input(f\"enter the height {i}:\")\n",
    "  if(j==\"\"):\n",
    "    print(\"  \")\n",
    "    break\n",
    " \n",
    "        \n",
    "        \n",
    "    \n",
    "    \n",
    "    \n"
   ]
  },
  {
   "cell_type": "code",
   "execution_count": 2,
   "id": "cf0cd8fc",
   "metadata": {},
   "outputs": [
    {
     "name": "stdout",
     "output_type": "stream",
     "text": [
      "name:yash-pagal\n",
      "y\n",
      "aa\n",
      "sss\n",
      "hhhh\n",
      "-----\n",
      "pppppp\n",
      "aaaaaaa\n",
      "gggggggg\n",
      "aaaaaaaaa\n",
      "llllllllll\n"
     ]
    }
   ],
   "source": [
    "#5)program that creates  a triangle from the input word\n",
    "word=input(\"name:\")\n",
    "j=1\n",
    "for i in word:\n",
    "    print(i*j)\n",
    "    j=j+1\n",
    "    "
   ]
  },
  {
   "cell_type": "code",
   "execution_count": 56,
   "id": "5e5500d6",
   "metadata": {},
   "outputs": [
    {
     "name": "stdout",
     "output_type": "stream",
     "text": [
      "         *\n",
      "        ***\n",
      "       *****\n",
      "      *******\n",
      "     *********\n",
      "    ***********\n"
     ]
    }
   ],
   "source": [
    "#6 program that creates a pyramid from any character.\n",
    "k=9\n",
    "for i in range(1,12,2):\n",
    "    print(k*\" \"+i*\"*\")\n",
    "    k=k-1\n",
    "    \n",
    "    "
   ]
  },
  {
   "cell_type": "code",
   "execution_count": null,
   "id": "f42e10cd",
   "metadata": {},
   "outputs": [],
   "source": []
  },
  {
   "cell_type": "code",
   "execution_count": null,
   "id": "8e1364a0",
   "metadata": {},
   "outputs": [],
   "source": []
  },
  {
   "cell_type": "code",
   "execution_count": null,
   "id": "f13a2a5d",
   "metadata": {},
   "outputs": [],
   "source": []
  },
  {
   "cell_type": "code",
   "execution_count": null,
   "id": "35843788",
   "metadata": {},
   "outputs": [],
   "source": []
  },
  {
   "cell_type": "code",
   "execution_count": null,
   "id": "dcda4c8a",
   "metadata": {},
   "outputs": [],
   "source": []
  },
  {
   "cell_type": "code",
   "execution_count": null,
   "id": "ad9b8797",
   "metadata": {},
   "outputs": [],
   "source": []
  },
  {
   "cell_type": "code",
   "execution_count": null,
   "id": "0221b16a",
   "metadata": {},
   "outputs": [],
   "source": []
  },
  {
   "cell_type": "code",
   "execution_count": null,
   "id": "fdc33c19",
   "metadata": {},
   "outputs": [],
   "source": []
  }
 ],
 "metadata": {
  "kernelspec": {
   "display_name": "Python 3",
   "language": "python",
   "name": "python3"
  },
  "language_info": {
   "codemirror_mode": {
    "name": "ipython",
    "version": 3
   },
   "file_extension": ".py",
   "mimetype": "text/x-python",
   "name": "python",
   "nbconvert_exporter": "python",
   "pygments_lexer": "ipython3",
   "version": "3.8.8"
  }
 },
 "nbformat": 4,
 "nbformat_minor": 5
}
