{
 "cells": [
  {
   "cell_type": "code",
   "execution_count": 37,
   "id": "a1cc0c1d",
   "metadata": {},
   "outputs": [
    {
     "name": "stdout",
     "output_type": "stream",
     "text": [
      "enter a string:w\n",
      "Empty String\n"
     ]
    }
   ],
   "source": [
    "#1)program\n",
    "string=input(\"enter a string:\")\n",
    "length=len(string)\n",
    "if length>2:\n",
    "    print(string[0:2]+string[-2:])\n",
    "elif length<2:\n",
    "    print(\"Empty String\")\n",
    "elif length==2:\n",
    "    print(string[:]+string[:])\n",
    "    "
   ]
  },
  {
   "cell_type": "code",
   "execution_count": 43,
   "id": "9740c706",
   "metadata": {},
   "outputs": [
    {
     "name": "stdout",
     "output_type": "stream",
     "text": [
      " enter a string:abcabab\n",
      "abc@b@b\n"
     ]
    }
   ],
   "source": [
    "#2)program\n",
    "firstchar=input(\" enter a string:\")\n",
    "val=firstchar[0:1]\n",
    "if firstchar:\n",
    "    print(firstchar[0:1]+firstchar.replace(val,\"@\")[1:])"
   ]
  },
  {
   "cell_type": "code",
   "execution_count": 90,
   "id": "c3c0e42b",
   "metadata": {},
   "outputs": [
    {
     "name": "stdout",
     "output_type": "stream",
     "text": [
      "enter a string:on\n",
      "on\n"
     ]
    }
   ],
   "source": [
    "#3)\n",
    "string1=input(\"enter a string:\")\n",
    "length=len(string1) \n",
    "if length==4:\n",
    "    print(string1+\"ing\")\n",
    "elif length>=4:\n",
    "    string1.endswith(\"ing\")\n",
    "    print(string1[:-3]+string1[-3:].replace(\"ing\",\"ly\"))\n",
    "elif length<3:\n",
    "    print(string1)\n",
    "    "
   ]
  },
  {
   "cell_type": "code",
   "execution_count": 2,
   "id": "855fcd6f",
   "metadata": {},
   "outputs": [
    {
     "name": "stdout",
     "output_type": "stream",
     "text": [
      "enter:python.java\n",
      "java\n"
     ]
    }
   ],
   "source": [
    "#4)program\n",
    "string=input(\"enter:\")\n",
    "y=string.split(\".\")\n",
    "print(y[1])\n",
    "\n"
   ]
  },
  {
   "cell_type": "code",
   "execution_count": 12,
   "id": "95fcbd6a",
   "metadata": {},
   "outputs": [
    {
     "name": "stdout",
     "output_type": "stream",
     "text": [
      "3236,56.46\n"
     ]
    }
   ],
   "source": [
    "#5)program\n",
    "x=\"3236.56,46\"\n",
    "y=x[0:5].replace(\".\",\",\")+x[5:].replace(\",\",\".\")\n",
    "print(y)\n"
   ]
  },
  {
   "cell_type": "code",
   "execution_count": 1,
   "id": "913287a0",
   "metadata": {},
   "outputs": [
    {
     "name": "stdout",
     "output_type": "stream",
     "text": [
      "enter a word:python\n"
     ]
    },
    {
     "data": {
      "text/plain": [
       "'nohtyp'"
      ]
     },
     "execution_count": 1,
     "metadata": {},
     "output_type": "execute_result"
    }
   ],
   "source": [
    "#6)program\n",
    "string=input(\"enter a word:\")\n",
    "string[::-1]"
   ]
  },
  {
   "cell_type": "code",
   "execution_count": 5,
   "id": "268895d7",
   "metadata": {},
   "outputs": [
    {
     "name": "stdout",
     "output_type": "stream",
     "text": [
      "enter a number:15\n",
      "enter another number:10\n",
      "output= 150\n"
     ]
    }
   ],
   "source": [
    "#7)program\n",
    "num1=int(input(\"enter a number:\"))\n",
    "num2=int(input(\"enter another number:\"))\n",
    "num3=num1*num2\n",
    "print(\"output=\",num3)"
   ]
  },
  {
   "cell_type": "code",
   "execution_count": 8,
   "id": "bd02aae8",
   "metadata": {},
   "outputs": [
    {
     "name": "stdout",
     "output_type": "stream",
     "text": [
      "enter a word:a-b-c\n",
      "a\n",
      "b\n",
      "c\n"
     ]
    }
   ],
   "source": [
    "#8)program\n",
    "string=input(\"enter a word:\")\n",
    "y=string.split(\"-\")\n",
    "print(y[0])\n",
    "print(y[1])\n",
    "print(y[2])"
   ]
  },
  {
   "cell_type": "code",
   "execution_count": 5,
   "id": "ca07ddeb",
   "metadata": {},
   "outputs": [
    {
     "name": "stdout",
     "output_type": "stream",
     "text": [
      "enter one num:12.3\n",
      "1\n",
      "enter one num:13\n",
      "2\n",
      "enter one num:4\n",
      "3\n",
      "enter one num:15.6\n",
      "4\n",
      "enter one num:12\n",
      "5\n"
     ]
    }
   ],
   "source": [
    "#9)program\n",
    "x=1\n",
    "while x<6:\n",
    "    y=float(input(\"enter one num:\"))\n",
    "    print(x)\n",
    "    x=x+1\n",
    "    \n"
   ]
  },
  {
   "cell_type": "code",
   "execution_count": 5,
   "id": "ba23a70c",
   "metadata": {},
   "outputs": [
    {
     "name": "stdout",
     "output_type": "stream",
     "text": [
      "enter a word:python\n",
      "Data type is string\n"
     ]
    }
   ],
   "source": [
    "#10)program\n",
    "insert1=input(\"enter a word:\")\n",
    "if type(insert1)==str:\n",
    "    print(\"Data type is string\")"
   ]
  },
  {
   "cell_type": "code",
   "execution_count": null,
   "id": "cc5c67fc",
   "metadata": {},
   "outputs": [],
   "source": []
  }
 ],
 "metadata": {
  "kernelspec": {
   "display_name": "Python 3",
   "language": "python",
   "name": "python3"
  },
  "language_info": {
   "codemirror_mode": {
    "name": "ipython",
    "version": 3
   },
   "file_extension": ".py",
   "mimetype": "text/x-python",
   "name": "python",
   "nbconvert_exporter": "python",
   "pygments_lexer": "ipython3",
   "version": "3.8.8"
  }
 },
 "nbformat": 4,
 "nbformat_minor": 5
}
